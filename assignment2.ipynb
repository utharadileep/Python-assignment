{
  "nbformat": 4,
  "nbformat_minor": 0,
  "metadata": {
    "colab": {
      "provenance": []
    },
    "kernelspec": {
      "name": "python3",
      "display_name": "Python 3"
    },
    "language_info": {
      "name": "python"
    }
  },
  "cells": [
    {
      "cell_type": "code",
      "source": [
        "import numpy as np"
      ],
      "metadata": {
        "id": "BgSZufpJqk18"
      },
      "execution_count": 1,
      "outputs": []
    },
    {
      "cell_type": "code",
      "source": [
        "import math"
      ],
      "metadata": {
        "id": "WopEOeWiyNgr"
      },
      "execution_count": 2,
      "outputs": []
    },
    {
      "cell_type": "code",
      "source": [
        "import pandas as pd"
      ],
      "metadata": {
        "id": "-1eWksY2VMZ0"
      },
      "execution_count": 3,
      "outputs": []
    },
    {
      "cell_type": "markdown",
      "source": [
        "1.Write a Python program to accept a string value from the user and display\n",
        "the count of each character in that string"
      ],
      "metadata": {
        "id": "4R3C9Vstkhwu"
      }
    },
    {
      "cell_type": "code",
      "source": [
        "def count_chars():\n",
        "    user_input = input(\"Enter a string value: \")\n",
        "    char_count = {}\n",
        "    for char in user_input:\n",
        "        if char in char_count:\n",
        "            char_count[char] += 1\n",
        "        else:\n",
        "            char_count[char] = 1\n",
        "    for char, count in char_count.items():\n",
        "        print(f\"{char}={count}\", end=\", \")\n",
        "count_chars()\n"
      ],
      "metadata": {
        "id": "aVHkDAO7kwGr",
        "colab": {
          "base_uri": "https://localhost:8080/"
        },
        "outputId": "ff6a3d45-8e75-475e-87d3-67a0d7f4cd07"
      },
      "execution_count": 4,
      "outputs": [
        {
          "output_type": "stream",
          "name": "stdout",
          "text": [
            "Enter a string value: office\n",
            "o=1, f=2, i=1, c=1, e=1, "
          ]
        }
      ]
    },
    {
      "cell_type": "markdown",
      "source": [
        "2. Write a Python function to find the maximum of three numbers Sample"
      ],
      "metadata": {
        "id": "coPTVvKLZUeY"
      }
    },
    {
      "cell_type": "code",
      "source": [
        "def maximum(x, y, z):\n",
        "    max_num = x\n",
        "    if y > max_num:\n",
        "        max_num = y\n",
        "    if z > max_num:\n",
        "        max_num = z\n",
        "    return max_num  # Return the maximum number\n",
        "x = int(input(\"Enter 1st number: \"))\n",
        "y = int(input(\"Enter 2nd number: \"))\n",
        "z = int(input(\"Enter 3rd number: \"))\n",
        "max_number = maximum(x, y, z)\n",
        "print(\"The maximum number is:\", max_number)"
      ],
      "metadata": {
        "colab": {
          "base_uri": "https://localhost:8080/"
        },
        "id": "GoYRJYOubJ4e",
        "outputId": "aa2ea19e-d0ca-416e-c49b-bdb474258869"
      },
      "execution_count": 45,
      "outputs": [
        {
          "output_type": "stream",
          "name": "stdout",
          "text": [
            "Enter 1st number: 5\n",
            "Enter 2nd number: 3\n",
            "Enter 3rd number: 7\n",
            "The maximum number is: 7\n"
          ]
        }
      ]
    },
    {
      "cell_type": "markdown",
      "source": [
        "3.Write a Python function called exponent(base,exp) that returns an\n",
        "integer value of base raises to the power of exp"
      ],
      "metadata": {
        "id": "fF59hBK6kwxd"
      }
    },
    {
      "cell_type": "code",
      "source": [
        "base=int(input(\"Enter the base\"))\n",
        "exp=int(input(\"Enter the exponent\"))\n",
        "result=(base**exp)\n",
        "print(result)"
      ],
      "metadata": {
        "colab": {
          "base_uri": "https://localhost:8080/"
        },
        "outputId": "8ed65126-8865-4e96-e837-3c9300462046",
        "id": "Pe84Ew0Ko77Y"
      },
      "execution_count": null,
      "outputs": [
        {
          "output_type": "stream",
          "name": "stdout",
          "text": [
            "Enter the base2\n",
            "Enter the exponent3\n",
            "8\n"
          ]
        }
      ]
    },
    {
      "cell_type": "markdown",
      "source": [
        "4.Write a Python function that takes a positive integer and returns the sum\n",
        "of the cube of all the positive integers smaller than the specified number"
      ],
      "metadata": {
        "id": "THGdcGMClJGQ"
      }
    },
    {
      "cell_type": "code",
      "source": [
        "def sum_of_cubes(n):\n",
        "    if n <= 0:\n",
        "        return \"Enter a positive integer\"\n",
        "    sum_cubes = 0\n",
        "    for i in range(1, n ):\n",
        "        sum_cubes += i ** 3\n",
        "    return sum_cubes\n",
        "num = int(input(\"Enter a positive integer: \"))\n",
        "result = sum_of_cubes(num)\n",
        "print(result)\n"
      ],
      "metadata": {
        "colab": {
          "base_uri": "https://localhost:8080/"
        },
        "id": "pqJGlt7wq1yb",
        "outputId": "596064da-4df8-4823-9675-c72955efaf3e"
      },
      "execution_count": 47,
      "outputs": [
        {
          "output_type": "stream",
          "name": "stdout",
          "text": [
            "Enter a positive integer: 4\n",
            "36\n"
          ]
        }
      ]
    },
    {
      "cell_type": "markdown",
      "source": [
        "5.Write a Python program which iterates from 1 to 10. For multiples of 2,\n",
        " print “Fizz” instead of the number and for the multiples of 5, print “Buzz”.\n",
        "For numbers which are multiples of both 2 and 5, print “FizzBuzz”"
      ],
      "metadata": {
        "id": "_T_bJ3zDlTfL"
      }
    },
    {
      "cell_type": "code",
      "source": [
        "for i in range(1,11):\n",
        "  if i % 2 == 0 & i % 5 == 0:\n",
        "    print(\"FizzBuzz\")\n",
        "  elif i % 2 ==0:\n",
        "      print(\"Fizz\")\n",
        "  elif i % 5==0:\n",
        "        print(\"Buzz\")\n",
        "  else:\n",
        "          print(i)"
      ],
      "metadata": {
        "colab": {
          "base_uri": "https://localhost:8080/"
        },
        "id": "M0lgRprLlVUl",
        "outputId": "86fef438-a10d-4281-dcf0-0006513b292b"
      },
      "execution_count": null,
      "outputs": [
        {
          "output_type": "stream",
          "name": "stdout",
          "text": [
            "1\n",
            "FizzBuzz\n",
            "3\n",
            "FizzBuzz\n",
            "Buzz\n",
            "FizzBuzz\n",
            "7\n",
            "FizzBuzz\n",
            "9\n",
            "FizzBuzz\n"
          ]
        }
      ]
    },
    {
      "cell_type": "markdown",
      "source": [
        "6.Write a Python program to find the most frequent item in a list of\n",
        "numbers"
      ],
      "metadata": {
        "id": "nWn8NANIlbaB"
      }
    },
    {
      "cell_type": "code",
      "source": [
        "def most_frequent(nums):\n",
        "    max_count = 0\n",
        "    frequent_num = None\n",
        "    for num in nums:\n",
        "        count = nums.count(num)\n",
        "        if count > max_count:\n",
        "            max_count = count\n",
        "            frequent_num = num\n",
        "    return frequent_num\n",
        "input_numbers = input(\"Input numbers separated by spaces: \")\n",
        "numbers = [int(num) for num in input_numbers.split()]\n",
        "result = most_frequent(numbers)\n",
        "print(\"The most frequent item in the list is:\", result)\n"
      ],
      "metadata": {
        "colab": {
          "base_uri": "https://localhost:8080/"
        },
        "id": "nhYFyR_KYe6n",
        "outputId": "5b3019bc-9d8a-4847-e0a6-98683d8134b4"
      },
      "execution_count": 40,
      "outputs": [
        {
          "output_type": "stream",
          "name": "stdout",
          "text": [
            "Input numbers separated by spaces: 4 5 6 7  8 4 8 4 9 4 6 4 2 8\n",
            "The most frequent item in the list is: 4\n"
          ]
        }
      ]
    },
    {
      "cell_type": "markdown",
      "source": [
        "7.Write a Python program to find the sum of squares of the numbers in a\n",
        "list."
      ],
      "metadata": {
        "id": "ZJbBGScHlgM8"
      }
    },
    {
      "cell_type": "code",
      "source": [
        "def sum_of_squares(numbers):\n",
        "    sum_squares = 0\n",
        "    for num in numbers:\n",
        "        sum_squares += num ** 2\n",
        "    return sum_squares\n",
        "input_numbers = input(\"Enter numbers separated by spaces: \")\n",
        "numbers = [int(num) for num in input_numbers.split()]\n",
        "result = sum_of_squares(numbers)\n",
        "print(\"The sum of squares of the numbers is:\", result)\n"
      ],
      "metadata": {
        "colab": {
          "base_uri": "https://localhost:8080/"
        },
        "id": "kOaHdAj1U9Sl",
        "outputId": "6a607b48-0164-46da-a8c0-7018c7529753"
      },
      "execution_count": 48,
      "outputs": [
        {
          "output_type": "stream",
          "name": "stdout",
          "text": [
            "Enter numbers separated by spaces: 2 1 3 1\n",
            "The sum of squares of the numbers is: 15\n"
          ]
        }
      ]
    },
    {
      "cell_type": "markdown",
      "source": [
        "8. Write a Python program using for loop that will iterate from 1 to 15. For\n",
        "each iteration, check if the current number is odd or even, and display the\n",
        "message to the screen as odd or even."
      ],
      "metadata": {
        "id": "JNk0r2bklmGC"
      }
    },
    {
      "cell_type": "code",
      "source": [
        "def check(num):\n",
        "    if num % 2 == 0:\n",
        "      return \"even\"\n",
        "    else:\n",
        "        return \"odd\"\n",
        "for num in range(1,16):\n",
        "    number=check(num)\n",
        "    print(f\"{num}-{number}\")\n"
      ],
      "metadata": {
        "id": "PSq97CfXlnGj",
        "colab": {
          "base_uri": "https://localhost:8080/"
        },
        "outputId": "e3ef01e3-59e2-4518-9222-7232e731c036"
      },
      "execution_count": 18,
      "outputs": [
        {
          "output_type": "stream",
          "name": "stdout",
          "text": [
            "1-odd\n",
            "2-even\n",
            "3-odd\n",
            "4-even\n",
            "5-odd\n",
            "6-even\n",
            "7-odd\n",
            "8-even\n",
            "9-odd\n",
            "10-even\n",
            "11-odd\n",
            "12-even\n",
            "13-odd\n",
            "14-even\n",
            "15-odd\n"
          ]
        }
      ]
    },
    {
      "cell_type": "markdown",
      "source": [
        "9.Write a Python program to convert temperatures to and from Celsius\n",
        "Fahrenheit. [Formula: c/5=f-32/9 where c=temperature in Celsius and f=\n",
        "temperature in Fahrenheit.]"
      ],
      "metadata": {
        "id": "Ke1fqp6UltvO"
      }
    },
    {
      "cell_type": "code",
      "source": [
        "def convert(fahrenheit):\n",
        "  celsius=(fahrenheit-32)*5 /9\n",
        "  return celsius\n",
        "fahrenheit= float(input(\"Temperature in Fahrenheit:\"))\n",
        "celsius = convert(fahrenheit)\n",
        "print(\"Temperature in Celsius:\",celsius)"
      ],
      "metadata": {
        "id": "2-VXd33lluuK",
        "colab": {
          "base_uri": "https://localhost:8080/"
        },
        "outputId": "7fdf13a0-cdce-4efc-c9bd-3b53c994c3f5"
      },
      "execution_count": 50,
      "outputs": [
        {
          "output_type": "stream",
          "name": "stdout",
          "text": [
            "Temperature in Fahrenheit:41\n",
            "Temperature in Celsius: 5.0\n"
          ]
        }
      ]
    },
    {
      "cell_type": "markdown",
      "source": [
        "10. Write a Python function to calculate the factorial of a number (a\n",
        "nonnegative integer). The function accepts the number as an argument."
      ],
      "metadata": {
        "id": "01sshs4MlyTY"
      }
    },
    {
      "cell_type": "code",
      "source": [
        "def factorial(n):\n",
        "    if n==0:\n",
        "      return 1\n",
        "    else:\n",
        "      return n* factorial(n-1)\n",
        "num = int(input(\"Enter a positive integer:\"))\n",
        "fact = factorial(num)\n",
        "print(\"The factorial is :\",fact)"
      ],
      "metadata": {
        "id": "jcvbhCJ7lzGe",
        "colab": {
          "base_uri": "https://localhost:8080/"
        },
        "outputId": "3151f7c0-88fe-4100-e2ac-f25cf2ddc7ca"
      },
      "execution_count": 49,
      "outputs": [
        {
          "output_type": "stream",
          "name": "stdout",
          "text": [
            "Enter a positive integer:3\n",
            "The factorial is : 6\n"
          ]
        }
      ]
    },
    {
      "cell_type": "code",
      "source": [
        "3"
      ],
      "metadata": {
        "id": "dgBVpQ0OryJw"
      },
      "execution_count": null,
      "outputs": []
    }
  ]
}