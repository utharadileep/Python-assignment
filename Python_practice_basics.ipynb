{
  "nbformat": 4,
  "nbformat_minor": 0,
  "metadata": {
    "colab": {
      "provenance": []
    },
    "kernelspec": {
      "name": "python3",
      "display_name": "Python 3"
    },
    "language_info": {
      "name": "python"
    }
  },
  "cells": [
    {
      "cell_type": "code",
      "source": [
        "import pandas as pd"
      ],
      "metadata": {
        "id": "qaC0hCsrdSr5"
      },
      "execution_count": 4,
      "outputs": []
    },
    {
      "cell_type": "code",
      "source": [
        "import numpy as np"
      ],
      "metadata": {
        "id": "2NwIkFqkdXvi"
      },
      "execution_count": 2,
      "outputs": []
    },
    {
      "cell_type": "markdown",
      "source": [
        "1.Write a Python program which accepts the radius of a circle from the user\n",
        "and compute the area.\n"
      ],
      "metadata": {
        "id": "xEB7ZXh4i76Q"
      }
    },
    {
      "cell_type": "code",
      "source": [
        "from math import pi"
      ],
      "metadata": {
        "id": "1K--RvxojECp"
      },
      "execution_count": 3,
      "outputs": []
    },
    {
      "cell_type": "code",
      "source": [
        "r = float(input(\"Enter the radius:\"))\n",
        "area =pi*r**2\n",
        "print(\"Area of Circle is \" ,str(area))"
      ],
      "metadata": {
        "colab": {
          "base_uri": "https://localhost:8080/"
        },
        "id": "ZDwoHW7GrefJ",
        "outputId": "3ac1558e-6170-4508-b62a-0176700a2345"
      },
      "execution_count": null,
      "outputs": [
        {
          "output_type": "stream",
          "name": "stdout",
          "text": [
            "Enter the radius:3\n",
            "Area of Circle is  28.274333882308138\n"
          ]
        }
      ]
    },
    {
      "cell_type": "markdown",
      "source": [
        "2.Write a Python Program to accept the details of a student like name, roll\n",
        "number and mark and display it.\n"
      ],
      "metadata": {
        "id": "QdU2gsRNuFSi"
      }
    },
    {
      "cell_type": "code",
      "source": [
        "n=str(input(\"Enter the name:\"))\n",
        "r=int(input(\"Enter the roll number:\"))\n",
        "m=int(input(\"Enter the mark:\"))\n",
        "print('Name:',str(n))\n",
        "print(\"Roll No:\",str(r))\n",
        "print(\"Mark:\",str(m))\n"
      ],
      "metadata": {
        "colab": {
          "base_uri": "https://localhost:8080/"
        },
        "id": "G7cjRcYktlOS",
        "outputId": "588c3ed5-4a2a-4bea-c9c3-5198f7c2ad82"
      },
      "execution_count": null,
      "outputs": [
        {
          "output_type": "stream",
          "name": "stdout",
          "text": [
            "Enter the name:Anisha\n",
            "Enter the roll number:21\n",
            "Enter the mark:78\n",
            "Name: Anisha\n",
            "Roll No: 21\n",
            "Mark: 78\n"
          ]
        }
      ]
    },
    {
      "cell_type": "markdown",
      "source": [
        "3.Write a Python program to get the largest number from a list."
      ],
      "metadata": {
        "id": "F46hPzOTwXGr"
      }
    },
    {
      "cell_type": "code",
      "source": [
        "def find_largest_number(numbers):\n",
        "    if not numbers:\n",
        "        return None\n",
        "    return max(numbers)\n",
        "input_numbers = input(\"Sample input: \")\n",
        "numbers = [int(num.strip()) for num in input_numbers.split(',')]\n",
        "largest_number = find_largest_number(numbers)\n",
        "\n",
        "if largest_number is not None:\n",
        "    print(f\"{largest_number} is the largest number.\")\n",
        "else:\n",
        "    print(\"The list is empty.\")\n"
      ],
      "metadata": {
        "colab": {
          "base_uri": "https://localhost:8080/"
        },
        "id": "nBeA3xczecvz",
        "outputId": "e642cfdc-3dcd-4dcd-82d4-2f44764126ef"
      },
      "execution_count": 9,
      "outputs": [
        {
          "output_type": "stream",
          "name": "stdout",
          "text": [
            "Sample input: 5,6,8\n",
            "8 is the largest number.\n"
          ]
        }
      ]
    },
    {
      "cell_type": "markdown",
      "source": [
        "4.Given a range of first 10 numbers, write a Python program to iterate from\n",
        "start number to the end number and print the sum of the current number\n",
        "and previous number.\n"
      ],
      "metadata": {
        "id": "-sEcoR3N6vzS"
      }
    },
    {
      "cell_type": "code",
      "source": [
        "def sum(start,end):\n",
        "  pre_num = start - 1\n",
        "  for cur_num in range(start,end + 1):\n",
        "    sum= pre_num + cur_num\n",
        "    print(\"Previous number: \", pre_num)\n",
        "    print(\"Current number: \", cur_num)\n",
        "    print(\"Sum of previous number and current number:\", sum)\n",
        "start = int(input(\"Enter starting number\"))\n",
        "end   = int(input(\"Enter the ending number\"))\n",
        "sum(start,end)"
      ],
      "metadata": {
        "id": "BbOE7lDo3umB",
        "colab": {
          "base_uri": "https://localhost:8080/"
        },
        "outputId": "9b7dd393-c8a7-4786-a413-e219d1818ad3"
      },
      "execution_count": 10,
      "outputs": [
        {
          "output_type": "stream",
          "name": "stdout",
          "text": [
            "Enter starting number1\n",
            "Enter the ending number5\n",
            "Previous number:  0\n",
            "Current number:  1\n",
            "Sum of previous number and current number: 1\n",
            "Previous number:  0\n",
            "Current number:  2\n",
            "Sum of previous number and current number: 2\n",
            "Previous number:  0\n",
            "Current number:  3\n",
            "Sum of previous number and current number: 3\n",
            "Previous number:  0\n",
            "Current number:  4\n",
            "Sum of previous number and current number: 4\n",
            "Previous number:  0\n",
            "Current number:  5\n",
            "Sum of previous number and current number: 5\n"
          ]
        }
      ]
    },
    {
      "cell_type": "markdown",
      "source": [
        "5.Write a Python program to print only those numbers which are divisible\n",
        "of 5.\n",
        "\n",
        "\n"
      ],
      "metadata": {
        "id": "s9jfF9v26yeF"
      }
    },
    {
      "cell_type": "code",
      "source": [
        "numbers = input(\"Enter a list of numbers separated by spaces: \")\n",
        "numbers = numbers.split()\n",
        "div = []\n",
        "for num in numbers:\n",
        "    if int(num) % 5 == 0:\n",
        "        div.append(int(num))\n",
        "print(\"Numbers divisible by 5:\", div)"
      ],
      "metadata": {
        "colab": {
          "base_uri": "https://localhost:8080/"
        },
        "id": "QNdGJmaTe6j8",
        "outputId": "df5c5daf-7450-48f9-c149-e3da96637267"
      },
      "execution_count": 6,
      "outputs": [
        {
          "output_type": "stream",
          "name": "stdout",
          "text": [
            "Enter a list of numbers separated by spaces: 10 20 33 46 55\n",
            "Numbers divisible by 5: [10, 20, 55]\n"
          ]
        }
      ]
    },
    {
      "cell_type": "markdown",
      "source": [
        "6.Write a Python program to check whether a number is prime or not."
      ],
      "metadata": {
        "id": "Ux0Xa7ll68-G"
      }
    },
    {
      "cell_type": "code",
      "source": [
        "def prime(number):\n",
        "    if number <= 1:\n",
        "        return False\n",
        "    for i in range(2, number):\n",
        "        if number % i == 0:\n",
        "            return False\n",
        "    return True\n",
        "num = int(input(\"Enter a number: \"))\n",
        "if prime(num):\n",
        "    print(\"Prime number\")\n",
        "else:\n",
        "    print(\"Not prime\")\n"
      ],
      "metadata": {
        "colab": {
          "base_uri": "https://localhost:8080/"
        },
        "id": "NF7a1FYlkoKF",
        "outputId": "85438ace-cfbd-4492-b321-d014e9eb2fe3"
      },
      "execution_count": 7,
      "outputs": [
        {
          "output_type": "stream",
          "name": "stdout",
          "text": [
            "Enter a number: 3\n",
            "Prime number\n"
          ]
        }
      ]
    },
    {
      "cell_type": "markdown",
      "source": [
        "7.Write a Python program to reverse a list using for loop."
      ],
      "metadata": {
        "id": "5GqMtZgn7Ens"
      }
    },
    {
      "cell_type": "code",
      "source": [
        "def reverse_list(lst):\n",
        "    reversed_list = []\n",
        "    for item in lst:\n",
        "        reversed_list.insert(0, item)\n",
        "    return reversed_list\n",
        "my_list = input(\"Enter a list of items separated by spaces: \").split()\n",
        "reversed_list = reverse_list(my_list)\n",
        "print(\"Reversed list:\", reversed_list)\n"
      ],
      "metadata": {
        "colab": {
          "base_uri": "https://localhost:8080/"
        },
        "id": "bZ6wKbaJfiZC",
        "outputId": "a321bb13-2b91-4af8-e659-973dc0a57332"
      },
      "execution_count": 8,
      "outputs": [
        {
          "output_type": "stream",
          "name": "stdout",
          "text": [
            "Enter a list of items separated by spaces: 10 40 30 70\n",
            "Reversed list: ['70', '30', '40', '10']\n"
          ]
        }
      ]
    },
    {
      "cell_type": "markdown",
      "source": [
        "8.Write a Python program to print the following pattern.\n"
      ],
      "metadata": {
        "id": "Wsi9fAvE7SBj"
      }
    },
    {
      "cell_type": "code",
      "source": [
        "def print_pyramid(rows):\n",
        "  for i in range (1, rows+1):\n",
        "    print('*'*i)\n",
        "rows = int(input(\"Enter the number of rows of pyramid:\"))\n",
        "print_pyramid(rows)"
      ],
      "metadata": {
        "colab": {
          "base_uri": "https://localhost:8080/"
        },
        "id": "utCEMZMdnX4m",
        "outputId": "b89e783a-8dcb-464c-e8a9-bba0f084bc46"
      },
      "execution_count": 29,
      "outputs": [
        {
          "output_type": "stream",
          "name": "stdout",
          "text": [
            "Enter the number of rows of pyramid:5\n",
            "*\n",
            "**\n",
            "***\n",
            "****\n",
            "*****\n"
          ]
        }
      ]
    },
    {
      "cell_type": "markdown",
      "source": [
        "9.Write a Python program to find the maximum of three numbers"
      ],
      "metadata": {
        "id": "HqZP3x8X7Z9i"
      }
    },
    {
      "cell_type": "code",
      "source": [
        "def maximum(x,y,z):\n",
        "  if x>=y & x>=z:\n",
        "    return x\n",
        "  elif y>=x & y>=z:\n",
        "      return y\n",
        "  else:\n",
        "        return z\n",
        "x= int(input(\"Enter 1st number:\"))\n",
        "y= int(input(\"Enter 2nd number:\"))\n",
        "z= int(input(\"Enter 3rd number:\"))\n",
        "maximum = maximum(x,y,z)\n",
        "print(\"The largest number is\",maximum)\n"
      ],
      "metadata": {
        "id": "dQoBdISQplIE",
        "colab": {
          "base_uri": "https://localhost:8080/"
        },
        "outputId": "1e808cf8-008d-4f1b-d6d2-7f179c8fbd72"
      },
      "execution_count": 28,
      "outputs": [
        {
          "output_type": "stream",
          "name": "stdout",
          "text": [
            "Enter 1st number:74\n",
            "Enter 2nd number:5\n",
            "Enter 3rd number:89\n",
            "The largest number is 89\n"
          ]
        }
      ]
    },
    {
      "cell_type": "markdown",
      "source": [
        "10.Write a Python program to construct the following pattern, using a\n",
        "nested for loop."
      ],
      "metadata": {
        "id": "93uADUl87lWi"
      }
    },
    {
      "cell_type": "code",
      "source": [
        "def print_star_pat(rows):\n",
        "  for i in range(1, rows +1):\n",
        "    print('*' *i)\n",
        "  for i in range (rows -1,0,-1):\n",
        "      print('*'*i)\n",
        "rows = 5\n",
        "print_star_pat(rows)"
      ],
      "metadata": {
        "id": "Vu9IUIVw7mSM",
        "colab": {
          "base_uri": "https://localhost:8080/"
        },
        "outputId": "6f9cf0ad-56c0-4454-ba28-cc8474e2e24f"
      },
      "execution_count": 25,
      "outputs": [
        {
          "output_type": "stream",
          "name": "stdout",
          "text": [
            "*\n",
            "**\n",
            "***\n",
            "****\n",
            "*****\n",
            "****\n",
            "***\n",
            "**\n",
            "*\n"
          ]
        }
      ]
    },
    {
      "cell_type": "code",
      "source": [],
      "metadata": {
        "id": "6_QVAteTmQwK"
      },
      "execution_count": null,
      "outputs": []
    }
  ]
}